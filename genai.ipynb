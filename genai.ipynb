{
  "nbformat": 4,
  "nbformat_minor": 0,
  "metadata": {
    "colab": {
      "provenance": [],
      "authorship_tag": "ABX9TyNgkM2NdIPTpYvRbJ6KOUMS",
      "include_colab_link": true
    },
    "kernelspec": {
      "name": "python3",
      "display_name": "Python 3"
    },
    "language_info": {
      "name": "python"
    }
  },
  "cells": [
    {
      "cell_type": "markdown",
      "metadata": {
        "id": "view-in-github",
        "colab_type": "text"
      },
      "source": [
        "<a href=\"https://colab.research.google.com/github/DavidRichardDev/Gemini-AI-Aula-4/blob/main/genai.ipynb\" target=\"_parent\"><img src=\"https://colab.research.google.com/assets/colab-badge.svg\" alt=\"Open In Colab\"/></a>"
      ]
    },
    {
      "cell_type": "code",
      "execution_count": 1,
      "metadata": {
        "id": "c2meoE1Fq06q"
      },
      "outputs": [],
      "source": [
        "!pip install -U -q google-generativeai"
      ]
    },
    {
      "cell_type": "code",
      "source": [
        "import google.generativeai as genai\n",
        "from google.colab import userdata\n",
        "api_key = userdata.get('GOOGLE_API_KEY')\n",
        "\n",
        "genai.configure(api_key=api_key)"
      ],
      "metadata": {
        "id": "f1sYZosPs9US"
      },
      "execution_count": 15,
      "outputs": []
    },
    {
      "cell_type": "code",
      "source": [
        "for m in genai.list_models():\n",
        "  if 'generateContent' in m.supported_generation_methods:\n",
        "    print(m.name)"
      ],
      "metadata": {
        "colab": {
          "base_uri": "https://localhost:8080/",
          "height": 139
        },
        "id": "N4sYhCmCs2fM",
        "outputId": "9221034b-1ac0-4705-f3d3-09d0f9423bb9"
      },
      "execution_count": 7,
      "outputs": [
        {
          "output_type": "stream",
          "name": "stdout",
          "text": [
            "models/gemini-1.0-pro\n",
            "models/gemini-1.0-pro-001\n",
            "models/gemini-1.0-pro-latest\n",
            "models/gemini-1.0-pro-vision-latest\n",
            "models/gemini-1.5-pro-latest\n",
            "models/gemini-pro\n",
            "models/gemini-pro-vision\n"
          ]
        }
      ]
    },
    {
      "cell_type": "code",
      "source": [
        "generation_config = {\n",
        "    \"candidate_count\": 1,\n",
        "    \"temperature\": 0.5,\n",
        "}"
      ],
      "metadata": {
        "id": "DeZ5mog9ugBb"
      },
      "execution_count": 8,
      "outputs": []
    },
    {
      "cell_type": "code",
      "source": [
        "safety_settings = {\n",
        "    \"HARASSMENT\": \"BLOCK_NONE\",\n",
        "    \"HATE\": \"BLOCK_NONE\",\n",
        "    \"SEXUAL\": \"BLOCK_NONE\",\n",
        "    \"DANGEROUS\": \"BLOCK_NONE\",\n",
        "}"
      ],
      "metadata": {
        "id": "agSmXjSnvMFL"
      },
      "execution_count": 9,
      "outputs": []
    },
    {
      "cell_type": "code",
      "source": [
        "model = genai.GenerativeModel(model_name=\"gemini-1.0-pro\",\n",
        "                              generation_config=generation_config,\n",
        "                              safety_settings=safety_settings)"
      ],
      "metadata": {
        "id": "J-b98OKtv6iR"
      },
      "execution_count": 10,
      "outputs": []
    },
    {
      "cell_type": "code",
      "source": [
        "response = model.generate_content(\"Vamos aprender conteúdo sobre IA. Me dê sugestões.\")\n",
        "print(response.text)"
      ],
      "metadata": {
        "colab": {
          "base_uri": "https://localhost:8080/",
          "height": 746
        },
        "id": "FHZhDrO2wppK",
        "outputId": "2d021a1d-9b9e-48ec-ca11-22b102717eaa"
      },
      "execution_count": 11,
      "outputs": [
        {
          "output_type": "stream",
          "name": "stdout",
          "text": [
            "**Introdução à IA**\n",
            "\n",
            "* Definição e história da Inteligência Artificial\n",
            "* Princípios e fundamentos da IA\n",
            "* Tipos de IA: aprendizado de máquina, aprendizado profundo, processamento de linguagem natural\n",
            "\n",
            "**Aprendizado de Máquina**\n",
            "\n",
            "* Tipos de aprendizado de máquina: supervisionado, não supervisionado, por reforço\n",
            "* Algoritmos de aprendizado de máquina: árvores de decisão, redes neurais, máquinas de vetores de suporte\n",
            "* Avaliação e otimização de modelos de aprendizado de máquina\n",
            "\n",
            "**Aprendizado Profundo**\n",
            "\n",
            "* Redes neurais e aprendizado profundo\n",
            "* Arquiteturas de redes neurais: CNNs, RNNs, Transformers\n",
            "* Aplicativos de aprendizado profundo: reconhecimento de imagem, processamento de linguagem natural\n",
            "\n",
            "**Processamento de Linguagem Natural**\n",
            "\n",
            "* Fundamentos do processamento de linguagem natural (PNL)\n",
            "* Tarefas de PNL: tokenização, análise sintática, análise semântica\n",
            "* Modelos de PNL: embeddings de palavras, modelos de linguagem, redes neurais recorrentes\n",
            "\n",
            "**Aplicações da IA**\n",
            "\n",
            "* IA na saúde: diagnóstico, tratamento e pesquisa\n",
            "* IA em finanças: previsão de mercado, detecção de fraudes e gerenciamento de risco\n",
            "* IA na educação: personalização de aprendizagem e avaliação automatizada\n",
            "* IA em transporte: veículos autônomos, otimização de tráfego e planejamento de rotas\n",
            "\n",
            "**Ética e Implicações Sociais da IA**\n",
            "\n",
            "* Preocupações éticas em torno da IA: viés, discriminação e privacidade\n",
            "* Implicações sociais da IA: automação, emprego e desigualdade\n",
            "* Regulamentações e diretrizes éticas para o desenvolvimento e uso da IA\n",
            "\n",
            "**Recursos Adicionais**\n",
            "\n",
            "* Cursos online: Coursera, edX, Udemy\n",
            "* Livros: \"Inteligência Artificial: Uma Abordagem Moderna\" por Stuart Russell e Peter Norvig, \"Aprendizado de Máquina\" por Tom Mitchell\n",
            "* Comunidades online: Reddit, Stack Overflow, GitHub\n"
          ]
        }
      ]
    },
    {
      "cell_type": "code",
      "source": [
        "chat = model.start_chat(history=[])"
      ],
      "metadata": {
        "id": "-7Tkd690xHiK"
      },
      "execution_count": 12,
      "outputs": []
    },
    {
      "cell_type": "code",
      "source": [
        "prompt = input(\"Esperando prompt: \")\n",
        "\n",
        "while prompt != \"fim\":\n",
        "  response = chat.send_message(prompt)\n",
        "  print(\"Resposta: \", response.text, \"\\n\")\n",
        "  prompt = input(\"Esperando prompt: \")"
      ],
      "metadata": {
        "colab": {
          "base_uri": "https://localhost:8080/",
          "height": 86
        },
        "id": "_n2YHzaYxaSj",
        "outputId": "a6703965-e132-41a6-fd56-330d7fc05b06"
      },
      "execution_count": 13,
      "outputs": [
        {
          "name": "stdout",
          "output_type": "stream",
          "text": [
            "Esperando prompt: Qual é a capital do japão?\n",
            "Resposta:  Tóquio \n",
            "\n",
            "Esperando prompt: fim\n"
          ]
        }
      ]
    },
    {
      "cell_type": "code",
      "source": [
        "chat.history"
      ],
      "metadata": {
        "colab": {
          "base_uri": "https://localhost:8080/"
        },
        "id": "acne3AJjyq4u",
        "outputId": "ace18837-9498-494f-b868-e868aa29ea34"
      },
      "execution_count": 14,
      "outputs": [
        {
          "output_type": "execute_result",
          "data": {
            "text/plain": [
              "[parts {\n",
              "   text: \"Qual \\303\\251 a capital do jap\\303\\243o?\"\n",
              " }\n",
              " role: \"user\",\n",
              " parts {\n",
              "   text: \"T\\303\\263quio\"\n",
              " }\n",
              " role: \"model\"]"
            ]
          },
          "metadata": {},
          "execution_count": 14
        }
      ]
    }
  ]
}